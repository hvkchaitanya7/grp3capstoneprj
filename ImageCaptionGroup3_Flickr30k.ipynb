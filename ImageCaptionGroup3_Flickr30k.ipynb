{
  "cells": [
    {
      "cell_type": "markdown",
      "metadata": {
        "id": "view-in-github",
        "colab_type": "text"
      },
      "source": [
        "<a href=\"https://colab.research.google.com/github/hvkchaitanya7/grp3capstoneprj/blob/main/ImageCaptionGroup3_Flickr30k.ipynb\" target=\"_parent\"><img src=\"https://colab.research.google.com/assets/colab-badge.svg\" alt=\"Open In Colab\"/></a>"
      ]
    },
    {
      "cell_type": "code",
      "execution_count": null,
      "metadata": {
        "id": "z00AzxLnuZqR"
      },
      "outputs": [],
      "source": [
        "1)Download FLickr30k dataset\n",
        "2)Divide the images into 4 folders\n",
        "3)Upload 4 folders into drive\n",
        "4)Train model on 4 folders"
      ]
    },
    {
      "cell_type": "code",
      "execution_count": null,
      "metadata": {
        "id": "KSZvrKz6zAHW",
        "colab": {
          "base_uri": "https://localhost:8080/"
        },
        "outputId": "c16f6ea7-d419-48b0-f1b0-a9e738f56661"
      },
      "outputs": [
        {
          "output_type": "stream",
          "name": "stdout",
          "text": [
            "Drive already mounted at /content/drive; to attempt to forcibly remount, call drive.mount(\"/content/drive\", force_remount=True).\n"
          ]
        }
      ],
      "source": [
        "from google.colab import drive\n",
        "drive.mount('/content/drive')#,force_remount=True)"
      ]
    },
    {
      "cell_type": "code",
      "execution_count": null,
      "metadata": {
        "id": "4Bt6pL0KV811"
      },
      "outputs": [],
      "source": [
        "#Change worling directory to Google drive\n",
        "import os\n",
        "os.chdir('/content/drive/MyDrive/Project Files/')"
      ]
    },
    {
      "cell_type": "code",
      "source": [
        ""
      ],
      "metadata": {
        "id": "SJH8RitD4fZX"
      },
      "execution_count": null,
      "outputs": []
    },
    {
      "cell_type": "code",
      "source": [
        "#List folder in current working directory\n",
        "os.listdir()"
      ],
      "metadata": {
        "id": "Ws9Ps9X2vUSR"
      },
      "execution_count": null,
      "outputs": []
    },
    {
      "cell_type": "markdown",
      "source": [
        "For below two cells,unzip all four folder one after other"
      ],
      "metadata": {
        "id": "jzHsw3em4ab4"
      }
    },
    {
      "cell_type": "code",
      "execution_count": null,
      "metadata": {
        "id": "pbsZCuyKWwpd"
      },
      "outputs": [],
      "source": [
        "!unzip flickr30k_4.zip"
      ]
    },
    {
      "cell_type": "code",
      "execution_count": null,
      "metadata": {
        "id": "ejQzDi7lx4Tj"
      },
      "outputs": [],
      "source": [
        "# Import all the critical libraries including keras \n",
        "import numpy as np\n",
        "from numpy import array\n",
        "import pandas as pd\n",
        "import matplotlib.pyplot as plt\n",
        "%matplotlib inline\n",
        "import string\n",
        "import os\n",
        "from PIL import Image\n",
        "import glob\n",
        "from pickle import dump, load\n",
        "from time import time\n",
        "from keras.preprocessing import sequence\n",
        "from keras.models import Sequential\n",
        "from keras import optimizers\n",
        "from keras import Input, layers\n",
        "from keras.applications.inception_v3 import preprocess_input\n",
        "from keras.layers import LSTM, Embedding, TimeDistributed, Dense, RepeatVector, Activation, Flatten, Reshape, concatenate, Dropout, BatchNormalization\n",
        "from keras.layers.wrappers import Bidirectional\n",
        "from keras.layers.merge import add\n",
        "from keras.applications.inception_v3 import InceptionV3\n",
        "from keras.preprocessing import image\n",
        "from keras.models import Model\n",
        "from keras.preprocessing.text import Tokenizer\n",
        "from keras.preprocessing.sequence import pad_sequences\n"
      ]
    },
    {
      "cell_type": "code",
      "execution_count": null,
      "metadata": {
        "id": "RKvue4gQyNMI"
      },
      "outputs": [],
      "source": [
        "# from keras.optimizers import Adam, RMSprop\n",
        "from tensorflow.keras.utils import to_categorical\n",
        "from tensorflow.keras.optimizers import Adam, RMSprop"
      ]
    },
    {
      "cell_type": "code",
      "execution_count": null,
      "metadata": {
        "id": "kFtL0X99OSmP"
      },
      "outputs": [],
      "source": [
        "#Read results_flickr30k.csv and retain only first two columns\n",
        "#We have uploaded this csv into content folder on colab\n",
        "df_results=pd.read_csv('/content/results_flickr30k.csv')\n",
        "df_results=df_results[['image_name',' comment']]\n",
        "\n",
        "df_results.head()"
      ]
    },
    {
      "cell_type": "code",
      "execution_count": null,
      "metadata": {
        "id": "zEbtmoPCRouE"
      },
      "outputs": [],
      "source": [
        "# creating a dictionary of all the captions for an image \n",
        "\n",
        "mapping = dict()\n",
        "# process lines\n",
        "for row in (df_results.values):\n",
        "    \n",
        "    # take the first token as the image id, the rest as the description\n",
        "    image_id, image_desc = row[0], row[1]\n",
        "    # convert description tokens back to string\n",
        "    #image_desc = ' '.join(image_desc)\n",
        "    # create the list if needed\n",
        "    if image_id not in mapping:\n",
        "        mapping[image_id] = list()\n",
        "    # store description\n",
        "    mapping[image_id].append(image_desc)"
      ]
    },
    {
      "cell_type": "code",
      "execution_count": null,
      "metadata": {
        "colab": {
          "base_uri": "https://localhost:8080/"
        },
        "id": "hAeX10MK9gx-",
        "outputId": "c5bdb272-0837-4c43-f559-457bd2072d2e"
      },
      "outputs": [
        {
          "output_type": "execute_result",
          "data": {
            "text/plain": [
              "31783"
            ]
          },
          "metadata": {},
          "execution_count": 13
        }
      ],
      "source": [
        "len(mapping)"
      ]
    },
    {
      "cell_type": "code",
      "execution_count": null,
      "metadata": {
        "id": "OICzM4H91Ctr"
      },
      "outputs": [],
      "source": [
        "# creating a dictionary of all the captions for an image \n",
        "def load_descriptions(doc):\n",
        "\tmapping = dict()\n",
        "\t# process lines\n",
        "\tfor line in doc.split('\\n'):\n",
        "\t\t# split line by white space\n",
        "\t\ttokens = line.split()\n",
        "\t\tif len(line) < 2:\n",
        "\t\t\tcontinue\n",
        "\t\t# take the first token as the image id, the rest as the description\n",
        "\t\timage_id, image_desc = tokens[0], tokens[1:]\n",
        "\t\t# extract filename from image id\n",
        "\t\timage_id = image_id.split('.')[0]\n",
        "\t\t# convert description tokens back to string\n",
        "\t\timage_desc = ' '.join(image_desc)\n",
        "\t\t# create the list if needed\n",
        "\t\tif image_id not in mapping:\n",
        "\t\t\tmapping[image_id] = list()\n",
        "\t\t# store description\n",
        "\t\tmapping[image_id].append(image_desc)\n",
        "\treturn mapping\n"
      ]
    },
    {
      "cell_type": "code",
      "execution_count": null,
      "metadata": {
        "colab": {
          "base_uri": "https://localhost:8080/"
        },
        "id": "YglhEjrt1HpU",
        "outputId": "a4d7c935-5d62-437e-9c5e-68a1709adb81"
      },
      "outputs": [
        {
          "output_type": "stream",
          "name": "stdout",
          "text": [
            "Loaded: 31783 \n"
          ]
        }
      ],
      "source": [
        "# parse descriptions\n",
        "descriptions = mapping\n",
        "print('Loaded: %d ' % len(descriptions))"
      ]
    },
    {
      "cell_type": "code",
      "execution_count": null,
      "metadata": {
        "id": "B4vDivIdGrMh"
      },
      "outputs": [],
      "source": [
        "descriptions"
      ]
    },
    {
      "cell_type": "code",
      "execution_count": null,
      "metadata": {
        "colab": {
          "base_uri": "https://localhost:8080/"
        },
        "id": "RUhhFr9f1KQu",
        "outputId": "edd343a7-0295-434e-c0c5-67807f597a84"
      },
      "outputs": [
        {
          "data": {
            "text/plain": [
              "['1000092795.jpg',\n",
              " '10002456.jpg',\n",
              " '1000268201.jpg',\n",
              " '1000344755.jpg',\n",
              " '1000366164.jpg']"
            ]
          },
          "execution_count": 45,
          "metadata": {},
          "output_type": "execute_result"
        }
      ],
      "source": [
        "#load first five elements of descriptions\n",
        "list(descriptions.keys())[:5]"
      ]
    },
    {
      "cell_type": "code",
      "execution_count": null,
      "metadata": {
        "id": "nOasS1RD1PD7"
      },
      "outputs": [],
      "source": [
        "def clean_descriptions(descriptions):\n",
        "\t# prepare translation table for removing punctuation\n",
        "\ttable = str.maketrans('', '', string.punctuation)\n",
        "\tfor key, desc_list in descriptions.items():\n",
        "\t\tfor i in range(len(desc_list)):\n",
        "\t\t\tdesc = desc_list[i]\n",
        "\t\t\t#print(desc)\n",
        "\t\t\t# tokenize\n",
        "\t\t\tdesc = desc.split()\n",
        "\t\t\t# convert to lower case\n",
        "\t\t\tdesc = [word.lower() for word in desc]\n",
        "\t\t\t# remove punctuation from each token\n",
        "\t\t\tdesc = [w.translate(table) for w in desc]\n",
        "\t\t\t# remove hanging 's' and 'a'\n",
        "\t\t\tdesc = [word for word in desc if len(word)>1]\n",
        "\t\t\t# remove tokens with numbers in them\n",
        "\t\t\tdesc = [word for word in desc if word.isalpha()]\n",
        "\t\t\t# store as string\n",
        "\t\t\tdesc_list[i] =  ' '.join(desc)\n",
        "\n",
        "# clean descriptions\n",
        "clean_descriptions(descriptions)"
      ]
    },
    {
      "cell_type": "code",
      "execution_count": null,
      "metadata": {
        "colab": {
          "base_uri": "https://localhost:8080/"
        },
        "id": "K5I9LFnEIbzv",
        "outputId": "85c0332b-ff62-4a66-998f-689b0955d139"
      },
      "outputs": [
        {
          "name": "stdout",
          "output_type": "stream",
          "text": [
            "Sun Jul  3 06:50:07 2022       \n",
            "+-----------------------------------------------------------------------------+\n",
            "| NVIDIA-SMI 460.32.03    Driver Version: 460.32.03    CUDA Version: 11.2     |\n",
            "|-------------------------------+----------------------+----------------------+\n",
            "| GPU  Name        Persistence-M| Bus-Id        Disp.A | Volatile Uncorr. ECC |\n",
            "| Fan  Temp  Perf  Pwr:Usage/Cap|         Memory-Usage | GPU-Util  Compute M. |\n",
            "|                               |                      |               MIG M. |\n",
            "|===============================+======================+======================|\n",
            "|   0  Tesla P100-PCIE...  Off  | 00000000:00:04.0 Off |                    0 |\n",
            "| N/A   36C    P0    25W / 250W |      0MiB / 16280MiB |      0%      Default |\n",
            "|                               |                      |                  N/A |\n",
            "+-------------------------------+----------------------+----------------------+\n",
            "                                                                               \n",
            "+-----------------------------------------------------------------------------+\n",
            "| Processes:                                                                  |\n",
            "|  GPU   GI   CI        PID   Type   Process name                  GPU Memory |\n",
            "|        ID   ID                                                   Usage      |\n",
            "|=============================================================================|\n",
            "|  No running processes found                                                 |\n",
            "+-----------------------------------------------------------------------------+\n"
          ]
        }
      ],
      "source": [
        "!nvidia-smi"
      ]
    },
    {
      "cell_type": "code",
      "execution_count": null,
      "metadata": {
        "colab": {
          "base_uri": "https://localhost:8080/"
        },
        "id": "VaeUnLE_1PHK",
        "outputId": "3704dd0d-00d2-4fa0-de28-27fe47b5cb7a"
      },
      "outputs": [
        {
          "output_type": "stream",
          "name": "stdout",
          "text": [
            "Original Vocabulary Size: 18692\n"
          ]
        }
      ],
      "source": [
        "# convert the loaded descriptions into a vocabulary of words\n",
        "# Get Unique words from all the descriptions\n",
        "def to_vocabulary(descriptions):\n",
        "\t# build a list of all description strings\n",
        "\tall_desc = set()\n",
        "\tfor key in descriptions.keys():\n",
        "\t\t[all_desc.update(d.split()) for d in descriptions[key]]\n",
        "\treturn all_desc\n",
        "\n",
        "# summarize vocabulary\n",
        "vocabulary = to_vocabulary(descriptions)\n",
        "print('Original Vocabulary Size: %d' % len(vocabulary))"
      ]
    },
    {
      "cell_type": "code",
      "execution_count": null,
      "metadata": {
        "id": "C116M8PQ1PJx"
      },
      "outputs": [],
      "source": [
        "# save descriptions to file, one per line\n",
        "def save_descriptions(descriptions, filename):\n",
        "\tlines = list()\n",
        "\tfor key, desc_list in descriptions.items():\n",
        "\t\tfor desc in desc_list:\n",
        "\t\t\tlines.append(key + ' ' + desc)\n",
        "\tdata = '\\n'.join(lines)\n",
        "\tfile = open(filename, 'w')\n",
        "\tfile.write(data)\n",
        "\tfile.close()\n",
        "\n",
        "save_descriptions(descriptions, 'descriptions.txt')\n"
      ]
    },
    {
      "cell_type": "code",
      "execution_count": null,
      "metadata": {
        "id": "tfg44hC-wcVI"
      },
      "outputs": [],
      "source": [
        "#Get dataset of images for all flickr30k folders\n",
        "dataset = list()\n",
        "#Change flickr30k folder name \n",
        "for img in os.listdir('/content/drive/MyDrive/Project Files/flickr30k_1'):\n",
        "    dataset.append(img)\n",
        "for img in os.listdir('/content/drive/MyDrive/Project Files/flickr30k_2'):\n",
        "    dataset.append(img)\n",
        "for img in os.listdir('/content/drive/MyDrive/Project Files/flickr30k_3'):\n",
        "    dataset.append(img)\n",
        "for img in os.listdir('/content/drive/MyDrive/Project Files/flickr30k_4'):\n",
        "    dataset.append(img)\n",
        "dataset=set(dataset)"
      ]
    },
    {
      "cell_type": "code",
      "execution_count": null,
      "metadata": {
        "colab": {
          "base_uri": "https://localhost:8080/"
        },
        "id": "Jdli89TGwoke",
        "outputId": "c0969b6c-e6d4-4395-a009-b2b86a316eb6"
      },
      "outputs": [
        {
          "output_type": "execute_result",
          "data": {
            "text/plain": [
              "0"
            ]
          },
          "metadata": {},
          "execution_count": 19
        }
      ],
      "source": [
        "len(dataset) #/content/drive"
      ]
    },
    {
      "cell_type": "code",
      "source": [
        "# Below path contains all the images\n",
        "images = '/content/drive/MyDrive/Project Files/flickr30k_1/'\n",
        "# Create a list of all image names in the directory\n",
        "img = glob.glob(images + '*.jpg')\n",
        "images = '/content/drive/MyDrive/Project Files/flickr30k_2/'\n",
        "# Create a list of all image names in the directory\n",
        "img.extend(glob.glob(images + '*.jpg'))\n",
        "images = '/content/drive/MyDrive/Project Files/flickr30k_3/'\n",
        "# Create a list of all image names in the directory\n",
        "img.extend(glob.glob(images + '*.jpg'))\n",
        "images = '/content/drive/MyDrive/Project Files/flickr30k_4/'\n",
        "# Create a list of all image names in the directory\n",
        "img= glob.glob(images + '*.jpg')"
      ],
      "metadata": {
        "id": "F_wo5zUgtn9P"
      },
      "execution_count": null,
      "outputs": []
    },
    {
      "cell_type": "code",
      "execution_count": null,
      "metadata": {
        "id": "2NlFpHmxT3iE"
      },
      "outputs": [],
      "source": [
        "# load doc into memory\n",
        "def load_doc(filename):\n",
        "\t# open the file as read only\n",
        "\tfile = open(filename, 'r')\n",
        "\t# read all text\n",
        "\ttext = file.read()\n",
        "\t# close the file\n",
        "\tfile.close()\n",
        "\treturn text"
      ]
    },
    {
      "cell_type": "code",
      "execution_count": null,
      "metadata": {
        "colab": {
          "base_uri": "https://localhost:8080/"
        },
        "id": "MfurmtO32ZJI",
        "outputId": "5e537547-dd8a-4c35-ba03-8375edc96527"
      },
      "outputs": [
        {
          "output_type": "stream",
          "name": "stdout",
          "text": [
            "Descriptions: train=21532\n"
          ]
        }
      ],
      "source": [
        "# load clean descriptions into memory\n",
        "def load_clean_descriptions(filename, dataset):\n",
        "\t# load document\n",
        "\tdoc = load_doc(filename)\n",
        "\tdescriptions = dict()\n",
        "\tfor line in doc.split('\\n'):\n",
        "\t\t# split line by white space\n",
        "\t\ttokens = line.split()\n",
        "\t\t# split id from description\n",
        "\t\timage_id, image_desc = tokens[0], tokens[1:]\n",
        "\t\t# skip images not in the set\n",
        "\t\tif image_id in dataset:\n",
        "\t\t\t# create list\n",
        "\t\t\tif image_id not in descriptions:\n",
        "\t\t\t\tdescriptions[image_id] = list()\n",
        "\t\t\t# wrap description in tokens\n",
        "\t\t\tdesc = 'startseq ' + ' '.join(image_desc) + ' endseq'\n",
        "\t\t\t# store\n",
        "\t\t\tdescriptions[image_id].append(desc)\n",
        "\treturn descriptions\n",
        "\n",
        "# descriptions\n",
        "train_descriptions = load_clean_descriptions('descriptions.txt', dataset)\n",
        "print('Descriptions: train=%d' % len(train_descriptions))"
      ]
    },
    {
      "cell_type": "code",
      "execution_count": null,
      "metadata": {
        "id": "xiw4qAUb2ZLI"
      },
      "outputs": [],
      "source": [
        "def preprocess(image_path):\n",
        "    # Convert all the images to size 299x299 as expected by the inception v3 model\n",
        "    img = image.load_img(image_path, target_size=(299, 299))\n",
        "    # Convert PIL image to numpy array of 3-dimensions\n",
        "    x = image.img_to_array(img)\n",
        "    #print('after to array', x.shape)\n",
        "    # Add one more dimension\n",
        "    x = np.expand_dims(x, axis=0) # this adds one  more dimension for batch size\n",
        "    #print('after dimension' , x.shape)\n",
        "    # preprocess the images using preprocess_input() from inception module\n",
        "    x = preprocess_input(x)\n",
        "    return x"
      ]
    },
    {
      "cell_type": "code",
      "execution_count": null,
      "metadata": {
        "id": "cI_1sHBL2ZOd",
        "colab": {
          "base_uri": "https://localhost:8080/"
        },
        "outputId": "3cf165db-e70e-4523-b7aa-690fad33dc53"
      },
      "outputs": [
        {
          "output_type": "stream",
          "name": "stdout",
          "text": [
            "Downloading data from https://storage.googleapis.com/tensorflow/keras-applications/inception_v3/inception_v3_weights_tf_dim_ordering_tf_kernels.h5\n",
            "96116736/96112376 [==============================] - 1s 0us/step\n",
            "96124928/96112376 [==============================] - 1s 0us/step\n"
          ]
        }
      ],
      "source": [
        "# Load the inception v3 model\n",
        "model_images = InceptionV3(weights='imagenet')"
      ]
    },
    {
      "cell_type": "code",
      "execution_count": null,
      "metadata": {
        "id": "XgHxqFM3Xy39"
      },
      "outputs": [],
      "source": [
        "model_images.summary()"
      ]
    },
    {
      "cell_type": "code",
      "execution_count": null,
      "metadata": {
        "id": "QGPUf1GE2ZQ8"
      },
      "outputs": [],
      "source": [
        "# Create a new model, by removing the last layer (output layer) from the inception v3\n",
        "# The model is used derive the Feature vector from the pre trained Inceptio V3 and return 2048 size vector for each image\n",
        "model_new = Model(model_images.input, model_images.layers[-2].output)"
      ]
    },
    {
      "cell_type": "code",
      "execution_count": null,
      "metadata": {
        "id": "Zv6SpdG6X6_t"
      },
      "outputs": [],
      "source": [
        "model_new.summary()"
      ]
    },
    {
      "cell_type": "code",
      "execution_count": null,
      "metadata": {
        "id": "1d1_y3NA2Ziz"
      },
      "outputs": [],
      "source": [
        "# Function to encode a given image into a vector of size (2048, )\n",
        "def encode(image):\n",
        "    image = preprocess(image) # preprocess the image\n",
        "    fea_vec = model_new.predict(image) # Get the encoding vector for the image\n",
        "    fea_vec = np.reshape(fea_vec, fea_vec.shape[1]) # reshape from (1, 2048) to (2048, )\n",
        "    #print('encode' , fea_vec.shape)\n",
        "    return fea_vec"
      ]
    },
    {
      "cell_type": "code",
      "source": [
        "encoding_train = {}"
      ],
      "metadata": {
        "id": "MT9-qcRe5iHy"
      },
      "execution_count": null,
      "outputs": []
    },
    {
      "cell_type": "code",
      "source": [
        "images = '/content/drive/MyDrive/Project Files/flickr30k_1/'\n",
        "# Create a list of all image names in the directory\n",
        "img = glob.glob(images + '*.jpg')"
      ],
      "metadata": {
        "id": "T1PMU87J5vcC"
      },
      "execution_count": null,
      "outputs": []
    },
    {
      "cell_type": "code",
      "execution_count": null,
      "metadata": {
        "id": "ejGu9X6p1iW0",
        "colab": {
          "base_uri": "https://localhost:8080/"
        },
        "outputId": "6d609066-d365-4e28-9291-faedc036cd44"
      },
      "outputs": [
        {
          "output_type": "stream",
          "name": "stdout",
          "text": [
            "Time taken in seconds = 523.3595967292786\n"
          ]
        }
      ],
      "source": [
        "# Call the funtion to encode all the train images\n",
        "# This will take a while on CPU - Execute this only once\n",
        "start = time()\n",
        "for img_ in img:\n",
        "    encoding_train[img_[len(images):]] = encode(img_)\n",
        "print(\"Time taken in seconds =\", time()-start)"
      ]
    },
    {
      "cell_type": "code",
      "source": [
        "len(encoding_train),len(img)"
      ],
      "metadata": {
        "colab": {
          "base_uri": "https://localhost:8080/"
        },
        "id": "M0ouBFLh5Is-",
        "outputId": "0764e7d9-b463-4379-8c77-8d2e69cbd2f6"
      },
      "execution_count": null,
      "outputs": [
        {
          "output_type": "execute_result",
          "data": {
            "text/plain": [
              "(3593, 31783)"
            ]
          },
          "metadata": {},
          "execution_count": 20
        }
      ]
    },
    {
      "cell_type": "code",
      "execution_count": null,
      "metadata": {
        "id": "eL9Kawsu9O-Q"
      },
      "outputs": [],
      "source": [
        "!mkdir '/content/drive/MyDrive/Project Files/Pickle/'"
      ]
    },
    {
      "cell_type": "code",
      "execution_count": null,
      "metadata": {
        "id": "Plv41m788gFy"
      },
      "outputs": [],
      "source": [
        "pkl_train_file=\"/content/drive/MyDrive/Project Files/Pickle/encoded_train_images.pkl\""
      ]
    },
    {
      "cell_type": "code",
      "source": [
        "pkl_train_file=\"https://drive.google.com/file/d/1HugSX1wY8GFFBTfyZTXk8U1JocbxVHs8/view?usp=sharing\""
      ],
      "metadata": {
        "id": "XYQj4ciRDy8U"
      },
      "execution_count": null,
      "outputs": []
    },
    {
      "cell_type": "code",
      "execution_count": null,
      "metadata": {
        "id": "LCsfxMt-1iZ3"
      },
      "outputs": [],
      "source": [
        "# Save the bottleneck train features to disk\n",
        "with open(pkl_train_file, \"wb\") as encoded_pickle:\n",
        "    dump(encoding_train, encoded_pickle)\n",
        "\n",
        "    # /content/sample_data/Pickle/encoded_train_images.pkl"
      ]
    },
    {
      "cell_type": "code",
      "execution_count": null,
      "metadata": {
        "id": "6RnyDQIb6ALf",
        "colab": {
          "base_uri": "https://localhost:8080/"
        },
        "outputId": "4cb41c48-9f40-48a2-ec35-7c0ba7344e20"
      },
      "outputs": [
        {
          "output_type": "stream",
          "name": "stdout",
          "text": [
            "Photos: train=21532\n"
          ]
        }
      ],
      "source": [
        "train_features = load(open(pkl_train_file, \"rb\"))\n",
        "print('Photos: train=%d' % len(train_features))"
      ]
    },
    {
      "cell_type": "code",
      "execution_count": null,
      "metadata": {
        "colab": {
          "base_uri": "https://localhost:8080/"
        },
        "id": "G-zTYuRc6APb",
        "outputId": "361899c1-cb8f-47cc-a879-69f555d66189"
      },
      "outputs": [
        {
          "output_type": "execute_result",
          "data": {
            "text/plain": [
              "158915"
            ]
          },
          "metadata": {},
          "execution_count": 158
        }
      ],
      "source": [
        "# Create a list of all the training captions\n",
        "all_train_captions = []\n",
        "for key, val in descriptions.items():\n",
        "    for cap in val:\n",
        "        all_train_captions.append(cap)\n",
        "len(all_train_captions)"
      ]
    },
    {
      "cell_type": "code",
      "execution_count": null,
      "metadata": {
        "id": "OSrbLHXz3R6J"
      },
      "outputs": [],
      "source": [
        "all_train_captions"
      ]
    },
    {
      "cell_type": "code",
      "execution_count": null,
      "metadata": {
        "colab": {
          "base_uri": "https://localhost:8080/"
        },
        "id": "ydp5lZ_i6ASD",
        "outputId": "b6a8c11b-3fc1-485b-d8dd-f85a761ee9ba"
      },
      "outputs": [
        {
          "output_type": "stream",
          "name": "stdout",
          "text": [
            "preprocessed words 18693 -> 5094\n"
          ]
        }
      ],
      "source": [
        "# Consider only words which occur at least 10 times in the corpus\n",
        "word_count_threshold = 10\n",
        "word_counts = {}\n",
        "nsents = 0\n",
        "for sent in all_train_captions:\n",
        "    nsents += 1\n",
        "    for w in sent.split(' '):\n",
        "        word_counts[w] = word_counts.get(w, 0) + 1\n",
        "\n",
        "vocab = [w for w in word_counts if word_counts[w] >= word_count_threshold]\n",
        "print('preprocessed words %d -> %d' % (len(word_counts), len(vocab)))"
      ]
    },
    {
      "cell_type": "code",
      "execution_count": null,
      "metadata": {
        "id": "Mqagewdh6AU8"
      },
      "outputs": [],
      "source": [
        "ixtoword = {}\n",
        "wordtoix = {}\n",
        "\n",
        "ix = 1\n",
        "for w in vocab:\n",
        "    wordtoix[w] = ix\n",
        "    ixtoword[ix] = w\n",
        "    ix += 1"
      ]
    },
    {
      "cell_type": "code",
      "execution_count": null,
      "metadata": {
        "colab": {
          "base_uri": "https://localhost:8080/"
        },
        "id": "Qxu6vch36AXU",
        "outputId": "329318c9-c649-48a6-c0f6-8f1a2e0812fb"
      },
      "outputs": [
        {
          "output_type": "execute_result",
          "data": {
            "text/plain": [
              "5095"
            ]
          },
          "metadata": {},
          "execution_count": 161
        }
      ],
      "source": [
        "vocab_size = len(ixtoword) + 1 # one for appended 0's\n",
        "vocab_size"
      ]
    },
    {
      "cell_type": "code",
      "execution_count": null,
      "metadata": {
        "colab": {
          "base_uri": "https://localhost:8080/"
        },
        "id": "dbw1XVer6Aai",
        "outputId": "51859a3d-6089-4b8c-9bad-5b3ab6eaa60e"
      },
      "outputs": [
        {
          "output_type": "stream",
          "name": "stdout",
          "text": [
            "Description Length: 70\n"
          ]
        }
      ],
      "source": [
        "# convert a dictionary of clean descriptions to a list of descriptions\n",
        "def to_lines(descriptions):\n",
        "\tall_desc = list()\n",
        "\tfor key in descriptions.keys():\n",
        "\t\t[all_desc.append(d) for d in descriptions[key]]\n",
        "\treturn all_desc\n",
        "\n",
        "# calculate the length of the description with the most words\n",
        "def max_length(descriptions):\n",
        "\tlines = to_lines(descriptions)\n",
        "\treturn max(len(d.split()) for d in lines)\n",
        "\n",
        "# determine the maximum sequence length\n",
        "max_length = max_length(train_descriptions)\n",
        "print('Description Length: %d' % max_length)"
      ]
    },
    {
      "cell_type": "code",
      "execution_count": null,
      "metadata": {
        "id": "XFJT15E16Acn"
      },
      "outputs": [],
      "source": [
        "# data generator, intended to be used in a call to model.fit_generator()\n",
        "def data_generator(descriptions, photos, wordtoix, max_length, num_photos_per_batch):\n",
        "    X1, X2, y = list(), list(), list()\n",
        "    n=0\n",
        "    # loop for ever over images\n",
        "    while 1:\n",
        "        for key, desc_list in descriptions.items():\n",
        "            n+=1\n",
        "            # retrieve the photo feature\n",
        "            if key in photos:\n",
        "                photo = photos[key]#+'.jpg']\n",
        "                for desc in desc_list:\n",
        "                    # encode the sequence\n",
        "                    seq = [wordtoix[word] for word in desc.split(' ') if word in wordtoix]\n",
        "                    # split one sequence into multiple X, y pairs\n",
        "                    for i in range(1, len(seq)):\n",
        "                        # split into input and output pair\n",
        "                        in_seq, out_seq = seq[:i], seq[i]\n",
        "                        # pad input sequence\n",
        "                        in_seq = pad_sequences([in_seq], maxlen=max_length)[0]\n",
        "                        # encode output sequence\n",
        "                        out_seq = to_categorical([out_seq], num_classes=vocab_size)[0]\n",
        "                        # store\n",
        "                        X1.append(photo)\n",
        "                        X2.append(in_seq)\n",
        "                        y.append(out_seq)\n",
        "                # yield the batch data\n",
        "                if n==num_photos_per_batch:\n",
        "                    yield [[array(X1), array(X2)], array(y)]\n",
        "                    X1, X2, y = list(), list(), list()\n",
        "                    n=0"
      ]
    },
    {
      "cell_type": "code",
      "execution_count": null,
      "metadata": {
        "colab": {
          "base_uri": "https://localhost:8080/"
        },
        "id": "TRI-S9Te-8MA",
        "outputId": "4ebade85-63d4-48f1-99f6-97576026b60a"
      },
      "outputs": [
        {
          "output_type": "stream",
          "name": "stdout",
          "text": [
            "--2022-08-10 13:56:36--  http://nlp.stanford.edu/data/glove.6B.zip\n",
            "Resolving nlp.stanford.edu (nlp.stanford.edu)... 171.64.67.140\n",
            "Connecting to nlp.stanford.edu (nlp.stanford.edu)|171.64.67.140|:80... connected.\n",
            "HTTP request sent, awaiting response... 302 Found\n",
            "Location: https://nlp.stanford.edu/data/glove.6B.zip [following]\n",
            "--2022-08-10 13:56:37--  https://nlp.stanford.edu/data/glove.6B.zip\n",
            "Connecting to nlp.stanford.edu (nlp.stanford.edu)|171.64.67.140|:443... connected.\n",
            "HTTP request sent, awaiting response... 301 Moved Permanently\n",
            "Location: https://downloads.cs.stanford.edu/nlp/data/glove.6B.zip [following]\n",
            "--2022-08-10 13:56:37--  https://downloads.cs.stanford.edu/nlp/data/glove.6B.zip\n",
            "Resolving downloads.cs.stanford.edu (downloads.cs.stanford.edu)... 171.64.64.22\n",
            "Connecting to downloads.cs.stanford.edu (downloads.cs.stanford.edu)|171.64.64.22|:443... connected.\n",
            "HTTP request sent, awaiting response... 200 OK\n",
            "Length: 862182613 (822M) [application/zip]\n",
            "Saving to: ‘glove.6B.zip’\n",
            "\n",
            "glove.6B.zip        100%[===================>] 822.24M  4.99MB/s    in 2m 39s  \n",
            "\n",
            "2022-08-10 13:59:16 (5.18 MB/s) - ‘glove.6B.zip’ saved [862182613/862182613]\n",
            "\n"
          ]
        }
      ],
      "source": [
        "!wget http://nlp.stanford.edu/data/glove.6B.zip"
      ]
    },
    {
      "cell_type": "code",
      "execution_count": null,
      "metadata": {
        "colab": {
          "base_uri": "https://localhost:8080/"
        },
        "id": "BYP0oIux_CmD",
        "outputId": "74528c94-189e-45f3-d658-3af1f51456e4"
      },
      "outputs": [
        {
          "output_type": "stream",
          "name": "stdout",
          "text": [
            "Archive:  glove.6B.zip\n",
            "  inflating: glove.6B.50d.txt        \n",
            "  inflating: glove.6B.100d.txt       \n",
            "  inflating: glove.6B.200d.txt       \n",
            "  inflating: glove.6B.300d.txt       \n"
          ]
        }
      ],
      "source": [
        "!unzip glove*.zip"
      ]
    },
    {
      "cell_type": "code",
      "execution_count": null,
      "metadata": {
        "colab": {
          "base_uri": "https://localhost:8080/"
        },
        "id": "6yPMZ79M6AfY",
        "outputId": "98c71dad-1568-4088-b35e-8081d5286b10"
      },
      "outputs": [
        {
          "output_type": "stream",
          "name": "stdout",
          "text": [
            "Found 400000 word vectors.\n"
          ]
        }
      ],
      "source": [
        "\n",
        "# Load Glove vectors\n",
        "glove_dir = '/content/drive/MyDrive/Project Files/'\n",
        "embeddings_index = {} # empty dictionary\n",
        "f = open(os.path.join(glove_dir, 'glove.6B.200d.txt'), encoding=\"utf-8\")\n",
        "\n",
        "for line in f:\n",
        "    values = line.split()\n",
        "    word = values[0]\n",
        "    coefs = np.asarray(values[1:], dtype='float32')\n",
        "    embeddings_index[word] = coefs\n",
        "f.close()\n",
        "print('Found %s word vectors.' % len(embeddings_index))"
      ]
    },
    {
      "cell_type": "code",
      "execution_count": null,
      "metadata": {
        "id": "I1yhtV6Y6Ah0"
      },
      "outputs": [],
      "source": [
        "embedding_dim = 200\n",
        "\n",
        "# Get 200-dim dense vector for each of the 10000 words in out vocabulary\n",
        "embedding_matrix = np.zeros((vocab_size, embedding_dim))\n",
        "\n",
        "for word, i in wordtoix.items():\n",
        "    #if i < max_words:\n",
        "    embedding_vector = embeddings_index.get(word)\n",
        "    if embedding_vector is not None:\n",
        "        # Words not found in the embedding index will be all zeros\n",
        "        embedding_matrix[i] = embedding_vector"
      ]
    },
    {
      "cell_type": "code",
      "execution_count": null,
      "metadata": {
        "colab": {
          "base_uri": "https://localhost:8080/"
        },
        "id": "rUnL-QDE6AkP",
        "outputId": "b1835f4a-1db8-4536-c51a-a0405b0b5b43"
      },
      "outputs": [
        {
          "output_type": "execute_result",
          "data": {
            "text/plain": [
              "(5095, 200)"
            ]
          },
          "metadata": {},
          "execution_count": 164
        }
      ],
      "source": [
        "embedding_matrix.shape"
      ]
    },
    {
      "cell_type": "code",
      "execution_count": null,
      "metadata": {
        "colab": {
          "base_uri": "https://localhost:8080/"
        },
        "id": "j0RXRRA1KVhZ",
        "outputId": "344272c2-d9d7-49e5-f927-f6ece7618609"
      },
      "outputs": [
        {
          "output_type": "execute_result",
          "data": {
            "text/plain": [
              "5095"
            ]
          },
          "metadata": {},
          "execution_count": 51
        }
      ],
      "source": [
        "vocab_size"
      ]
    },
    {
      "cell_type": "code",
      "execution_count": null,
      "metadata": {
        "id": "H7HyNRnw6AmP"
      },
      "outputs": [],
      "source": [
        "inputs1 = Input(shape=(2048,))\n",
        "fe1 = Dropout(0.5)(inputs1)\n",
        "fe2 = Dense(256, activation='relu')(fe1)\n",
        "inputs2 = Input(shape=(max_length,))\n",
        "se1 = Embedding(vocab_size, embedding_dim, mask_zero=True)(inputs2)\n",
        "se2 = Dropout(0.5)(se1)\n",
        "se3 = LSTM(256,return_sequences =True)(se2)\n",
        "decoder1 = add([fe2, se3])\n",
        "decoder2 = LSTM(256)(decoder1)\n",
        "decoder3 = Dense(256, activation='relu')(decoder2)\n",
        "outputs = Dense(vocab_size, activation='softmax')(decoder3)\n",
        "model = Model(inputs=[inputs1, inputs2], outputs=outputs)"
      ]
    },
    {
      "cell_type": "code",
      "execution_count": null,
      "metadata": {
        "colab": {
          "base_uri": "https://localhost:8080/"
        },
        "id": "eqXwZoqq6ApV",
        "outputId": "db9f0bcf-f718-43bc-8d41-427724c00dab"
      },
      "outputs": [
        {
          "output_type": "stream",
          "name": "stdout",
          "text": [
            "Model: \"model_1\"\n",
            "__________________________________________________________________________________________________\n",
            " Layer (type)                   Output Shape         Param #     Connected to                     \n",
            "==================================================================================================\n",
            " input_3 (InputLayer)           [(None, 70)]         0           []                               \n",
            "                                                                                                  \n",
            " input_2 (InputLayer)           [(None, 2048)]       0           []                               \n",
            "                                                                                                  \n",
            " embedding (Embedding)          (None, 70, 200)      1019000     ['input_3[0][0]']                \n",
            "                                                                                                  \n",
            " dropout (Dropout)              (None, 2048)         0           ['input_2[0][0]']                \n",
            "                                                                                                  \n",
            " dropout_1 (Dropout)            (None, 70, 200)      0           ['embedding[0][0]']              \n",
            "                                                                                                  \n",
            " dense (Dense)                  (None, 256)          524544      ['dropout[0][0]']                \n",
            "                                                                                                  \n",
            " lstm (LSTM)                    (None, 70, 256)      467968      ['dropout_1[0][0]']              \n",
            "                                                                                                  \n",
            " add (Add)                      (None, 70, 256)      0           ['dense[0][0]',                  \n",
            "                                                                  'lstm[0][0]']                   \n",
            "                                                                                                  \n",
            " lstm_1 (LSTM)                  (None, 256)          525312      ['add[0][0]']                    \n",
            "                                                                                                  \n",
            " dense_1 (Dense)                (None, 256)          65792       ['lstm_1[0][0]']                 \n",
            "                                                                                                  \n",
            " dense_2 (Dense)                (None, 5095)         1309415     ['dense_1[0][0]']                \n",
            "                                                                                                  \n",
            "==================================================================================================\n",
            "Total params: 3,912,031\n",
            "Trainable params: 3,912,031\n",
            "Non-trainable params: 0\n",
            "__________________________________________________________________________________________________\n"
          ]
        }
      ],
      "source": [
        "model.summary()"
      ]
    },
    {
      "cell_type": "code",
      "execution_count": null,
      "metadata": {
        "id": "bCYgJ3BE6AsC"
      },
      "outputs": [],
      "source": [
        "model.layers[2].set_weights([embedding_matrix])\n",
        "model.layers[2].trainable = False"
      ]
    },
    {
      "cell_type": "code",
      "execution_count": null,
      "metadata": {
        "id": "3WtramkS6Auh"
      },
      "outputs": [],
      "source": [
        "model.compile(loss='categorical_crossentropy', optimizer='adam',metrics=['accuracy'])"
      ]
    },
    {
      "cell_type": "code",
      "execution_count": null,
      "metadata": {
        "id": "K6VU4jQX6AxQ"
      },
      "outputs": [],
      "source": [
        "epochs = 1\n",
        "number_pics_per_bath = 100\n",
        "steps = len(train_descriptions)//number_pics_per_bath"
      ]
    },
    {
      "cell_type": "code",
      "execution_count": null,
      "metadata": {
        "id": "9eZwrkPU7BBp"
      },
      "outputs": [],
      "source": [
        "for i in range(10):\n",
        "    generator = data_generator(train_descriptions, train_features, wordtoix, max_length, number_pics_per_bath)\n",
        "    model.fit_generator(generator, epochs=1, steps_per_epoch=steps, verbose=1)\n",
        "    #model.save('./model_weights/model_flickr30k_1' + str(i) + '.h5')"
      ]
    },
    {
      "cell_type": "code",
      "execution_count": null,
      "metadata": {
        "id": "-gbgcRnosy9O"
      },
      "outputs": [],
      "source": [
        "model.save('./model_weights/model_flickr30k_final' + '.h5')"
      ]
    },
    {
      "cell_type": "code",
      "execution_count": null,
      "metadata": {
        "colab": {
          "base_uri": "https://localhost:8080/"
        },
        "id": "g244IqqTLore",
        "outputId": "53435c5f-d088-40a6-fd64-1fbe176d1e0a"
      },
      "outputs": [
        {
          "data": {
            "text/plain": [
              "{'accuracy': [0.4483354389667511],\n",
              " 'loss': [2.106640577316284],\n",
              " 'val_accuracy': [0.31414780020713806],\n",
              " 'val_loss': [3.894533634185791]}"
            ]
          },
          "execution_count": 65,
          "metadata": {},
          "output_type": "execute_result"
        }
      ],
      "source": [
        "history.history"
      ]
    },
    {
      "cell_type": "code",
      "execution_count": null,
      "metadata": {
        "id": "YptMPW-yNWTn"
      },
      "outputs": [],
      "source": [
        "scores=model.evaluate(train_generator,steps=50)"
      ]
    },
    {
      "cell_type": "code",
      "execution_count": null,
      "metadata": {
        "id": "F6ok7B897BEZ"
      },
      "outputs": [],
      "source": [
        "model.optimizer.lr = 0.0001\n",
        "epochs = 15\n",
        "number_pics_per_bath = 20\n",
        "steps = len(train_descriptions)//number_pics_per_bath"
      ]
    },
    {
      "cell_type": "code",
      "execution_count": null,
      "metadata": {
        "id": "FDr3d1Sn7BHP"
      },
      "outputs": [],
      "source": [
        "for i in range(2):\n",
        "    generator = data_generator(train_descriptions, train_features, wordtoix, max_length, number_pics_per_bath)\n",
        "    history=model.fit_generator(generator, epochs=1, steps_per_epoch=steps, verbose=1)\n",
        "    #model.save('./model_weights/model_' + str(i) + '.h5')"
      ]
    },
    {
      "cell_type": "code",
      "execution_count": null,
      "metadata": {
        "id": "W9Dtfyd0kbPx"
      },
      "outputs": [],
      "source": [
        "from nltk.translate.bleu_score import sentence_bleu\n",
        "import tensorflow as tf\n",
        "def get_bleuscore(pred_desc, image_name):\n",
        "    cand_desc = pred_desc.split()\n",
        "    #print(\"blue score desc\", cand_desc)\n",
        "    img_name = image_name.split(\".jpg\")[0]\n",
        "    refer_desc = descriptions[img_name]\n",
        "    refer_list = []\n",
        "    for s in refer_desc:\n",
        "         s = s.split()\n",
        "         refer_list.append(s)\n",
        "    #print(s)\n",
        "    print(\"Expert Caption:\",refer_desc)\n",
        "    #print (refer_list)\n",
        "    score = sentence_bleu(refer_list,cand_desc,weights=(0, 1, 0))\n",
        "    #print(score)\n",
        "    return(score)"
      ]
    },
    {
      "cell_type": "code",
      "execution_count": null,
      "metadata": {
        "id": "DHFKs-rL7rVs"
      },
      "outputs": [],
      "source": [
        "def greedySearch(photo):\n",
        "    in_text = 'startseq'\n",
        "    for i in range(max_length):\n",
        "        sequence = [wordtoix[w] for w in in_text.split() if w in wordtoix]\n",
        "        sequence = pad_sequences([sequence], maxlen=max_length)\n",
        "        yhat = model.predict([photo,sequence], verbose=0)\n",
        "        yhat = np.argmax(yhat)\n",
        "        word = ixtoword[yhat]\n",
        "        in_text += ' ' + word\n",
        "        if word == 'endseq':\n",
        "            break\n",
        "    final = in_text.split()\n",
        "    final = final[1:-1]\n",
        "    final = ' '.join(final)\n",
        "    return final"
      ]
    },
    {
      "cell_type": "code",
      "execution_count": null,
      "metadata": {
        "id": "K1V_L2DAFUpT"
      },
      "outputs": [],
      "source": [
        "img = image.load_img('/content/drive/MyDrive/COCO_train2014_000000027511.jpg', target_size=(299, 299))\n"
      ]
    },
    {
      "cell_type": "code",
      "execution_count": null,
      "metadata": {
        "colab": {
          "base_uri": "https://localhost:8080/"
        },
        "id": "3huCg8ZgCrnS",
        "outputId": "00768668-d715-4c5b-eef3-9d4dafe51beb"
      },
      "outputs": [
        {
          "output_type": "stream",
          "name": "stdout",
          "text": [
            "Greedy: man in blue shirt is working on the street with his hand on his head is standing on the ground with his hand on his head is standing on the ground with his hand on his head is standing on the ground in front of the building with the background of the background of the background is it is on the side of the street with the background and\n"
          ]
        }
      ],
      "source": [
        "image_1=encode('/content/drive/MyDrive/COCO_train2014_000000029214.jpg').reshape((1,2048))\n",
        "print(\"Greedy:\",greedySearch(image_1))\n",
        "img_caption = greedySearch(image_1)"
      ]
    }
  ],
  "metadata": {
    "accelerator": "GPU",
    "colab": {
      "collapsed_sections": [],
      "name": "15July-ImageCaptionGroup3_BaseLine_Inception.ipynb",
      "provenance": [],
      "machine_shape": "hm",
      "include_colab_link": true
    },
    "gpuClass": "standard",
    "kernelspec": {
      "display_name": "Python 3",
      "name": "python3"
    },
    "language_info": {
      "name": "python"
    }
  },
  "nbformat": 4,
  "nbformat_minor": 0
}